{
 "cells": [
  {
   "cell_type": "markdown",
   "metadata": {},
   "source": [
    "### Simulation parameters"
   ]
  },
  {
   "cell_type": "code",
   "execution_count": 1,
   "metadata": {
    "collapsed": false
   },
   "outputs": [],
   "source": [
    "suppressPackageStartupMessages(library(meta))\n",
    "\n",
    "Niter <- 1000\n",
    "Nstud <- 10\n",
    "SampleSizes <- 5:40\n",
    "mu1 <- 10\n",
    "mu2 <- 10\n",
    "sigma1 <- 1.2\n",
    "sigma2 <- 1"
   ]
  },
  {
   "cell_type": "markdown",
   "metadata": {},
   "source": [
    "### Samples generation"
   ]
  },
  {
   "cell_type": "code",
   "execution_count": 2,
   "metadata": {
    "collapsed": true
   },
   "outputs": [],
   "source": [
    "n1 <- sample(SampleSizes, Nstud, rep=T)\n",
    "n2 <- sample(SampleSizes, Nstud, rep=T)\n",
    "\n",
    "ind1 <- lapply(n1, rnorm, mu1, sigma1)\n",
    "ind2 <- lapply(n2, rnorm, mu2, sigma2)\n",
    "sd1 <- sapply(ind1, sd)\n",
    "sd2 <- sapply(ind2, sd)"
   ]
  },
  {
   "cell_type": "markdown",
   "metadata": {},
   "source": [
    "### F-test for comparison two variances"
   ]
  },
  {
   "cell_type": "code",
   "execution_count": 3,
   "metadata": {
    "collapsed": false
   },
   "outputs": [
    {
     "data": {
      "text/html": [
       "<table>\n",
       "<thead><tr><th scope=col>study</th><th scope=col>cases</th><th scope=col>controls</th><th scope=col>estimate</th><th scope=col>lower.95</th><th scope=col>upper.95</th><th scope=col>pval</th></tr></thead>\n",
       "<tbody>\n",
       "\t<tr><td> 1         </td><td>16         </td><td>22         </td><td> 4.1501208 </td><td>1.6379281  </td><td>11.372455  </td><td>0.003092150</td></tr>\n",
       "\t<tr><td> 2         </td><td> 6         </td><td>32         </td><td> 0.3452420 </td><td>0.1146862  </td><td> 2.147484  </td><td>0.237312883</td></tr>\n",
       "\t<tr><td> 3         </td><td> 7         </td><td>40         </td><td> 1.1383502 </td><td>0.4134045  </td><td> 5.710600  </td><td>0.717454575</td></tr>\n",
       "\t<tr><td> 4         </td><td>38         </td><td> 5         </td><td>10.2202825 </td><td>1.2133233  </td><td>32.252427  </td><td>0.034996704</td></tr>\n",
       "\t<tr><td> 5         </td><td>33         </td><td>11         </td><td> 1.4698504 </td><td>0.4457828  </td><td> 3.645144  </td><td>0.531408719</td></tr>\n",
       "\t<tr><td> 6         </td><td>37         </td><td>14         </td><td> 1.2362510 </td><td>0.4416655  </td><td> 2.829775  </td><td>0.705161537</td></tr>\n",
       "\t<tr><td> 7         </td><td>12         </td><td>13         </td><td> 0.3937567 </td><td>0.1185485  </td><td> 1.350433  </td><td>0.133459604</td></tr>\n",
       "\t<tr><td> 8         </td><td>21         </td><td>21         </td><td> 1.3180122 </td><td>0.5348024  </td><td> 3.248220  </td><td>0.542647267</td></tr>\n",
       "\t<tr><td> 9         </td><td>34         </td><td>35         </td><td> 2.5166285 </td><td>1.2658033  </td><td> 5.021387  </td><td>0.008959227</td></tr>\n",
       "\t<tr><td>10         </td><td>19         </td><td>32         </td><td> 2.6952598 </td><td>1.2158358  </td><td> 6.567933  </td><td>0.014859527</td></tr>\n",
       "</tbody>\n",
       "</table>\n"
      ],
      "text/latex": [
       "\\begin{tabular}{r|lllllll}\n",
       " study & cases & controls & estimate & lower.95 & upper.95 & pval\\\\\n",
       "\\hline\n",
       "\t  1          & 16          & 22          &  4.1501208  & 1.6379281   & 11.372455   & 0.003092150\\\\\n",
       "\t  2          &  6          & 32          &  0.3452420  & 0.1146862   &  2.147484   & 0.237312883\\\\\n",
       "\t  3          &  7          & 40          &  1.1383502  & 0.4134045   &  5.710600   & 0.717454575\\\\\n",
       "\t  4          & 38          &  5          & 10.2202825  & 1.2133233   & 32.252427   & 0.034996704\\\\\n",
       "\t  5          & 33          & 11          &  1.4698504  & 0.4457828   &  3.645144   & 0.531408719\\\\\n",
       "\t  6          & 37          & 14          &  1.2362510  & 0.4416655   &  2.829775   & 0.705161537\\\\\n",
       "\t  7          & 12          & 13          &  0.3937567  & 0.1185485   &  1.350433   & 0.133459604\\\\\n",
       "\t  8          & 21          & 21          &  1.3180122  & 0.5348024   &  3.248220   & 0.542647267\\\\\n",
       "\t  9          & 34          & 35          &  2.5166285  & 1.2658033   &  5.021387   & 0.008959227\\\\\n",
       "\t 10          & 19          & 32          &  2.6952598  & 1.2158358   &  6.567933   & 0.014859527\\\\\n",
       "\\end{tabular}\n"
      ],
      "text/markdown": [
       "\n",
       "study | cases | controls | estimate | lower.95 | upper.95 | pval | \n",
       "|---|---|---|---|---|---|---|---|---|---|\n",
       "|  1          | 16          | 22          |  4.1501208  | 1.6379281   | 11.372455   | 0.003092150 | \n",
       "|  2          |  6          | 32          |  0.3452420  | 0.1146862   |  2.147484   | 0.237312883 | \n",
       "|  3          |  7          | 40          |  1.1383502  | 0.4134045   |  5.710600   | 0.717454575 | \n",
       "|  4          | 38          |  5          | 10.2202825  | 1.2133233   | 32.252427   | 0.034996704 | \n",
       "|  5          | 33          | 11          |  1.4698504  | 0.4457828   |  3.645144   | 0.531408719 | \n",
       "|  6          | 37          | 14          |  1.2362510  | 0.4416655   |  2.829775   | 0.705161537 | \n",
       "|  7          | 12          | 13          |  0.3937567  | 0.1185485   |  1.350433   | 0.133459604 | \n",
       "|  8          | 21          | 21          |  1.3180122  | 0.5348024   |  3.248220   | 0.542647267 | \n",
       "|  9          | 34          | 35          |  2.5166285  | 1.2658033   |  5.021387   | 0.008959227 | \n",
       "| 10          | 19          | 32          |  2.6952598  | 1.2158358   |  6.567933   | 0.014859527 | \n",
       "\n",
       "\n"
      ],
      "text/plain": [
       "   study cases controls estimate   lower.95  upper.95  pval       \n",
       "1   1    16    22        4.1501208 1.6379281 11.372455 0.003092150\n",
       "2   2     6    32        0.3452420 0.1146862  2.147484 0.237312883\n",
       "3   3     7    40        1.1383502 0.4134045  5.710600 0.717454575\n",
       "4   4    38     5       10.2202825 1.2133233 32.252427 0.034996704\n",
       "5   5    33    11        1.4698504 0.4457828  3.645144 0.531408719\n",
       "6   6    37    14        1.2362510 0.4416655  2.829775 0.705161537\n",
       "7   7    12    13        0.3937567 0.1185485  1.350433 0.133459604\n",
       "8   8    21    21        1.3180122 0.5348024  3.248220 0.542647267\n",
       "9   9    34    35        2.5166285 1.2658033  5.021387 0.008959227\n",
       "10 10    19    32        2.6952598 1.2158358  6.567933 0.014859527"
      ]
     },
     "metadata": {},
     "output_type": "display_data"
    }
   ],
   "source": [
    "Fr <- sd1^2 / sd2^2\n",
    "df1 <- n1 - 1\n",
    "df2 <- n2 - 1\n",
    "f.pvalues <- 1 - abs(pf(Fr, df1, df2) - 0.5) * 2\n",
    "alpha <- .05\n",
    "ci <- cbind(Fr/qf(1-alpha/2, df1, df2), Fr/qf(alpha/2, df1, df2))\n",
    "data.frame(study=1:Nstud, cases=n1, controls=n2, estimate=Fr, lower.95=ci[,1], upper.95=ci[,2], pval=f.pvalues)"
   ]
  },
  {
   "cell_type": "markdown",
   "metadata": {},
   "source": [
    "### Meta-analysis on ratios of variances"
   ]
  },
  {
   "cell_type": "code",
   "execution_count": 4,
   "metadata": {
    "collapsed": false
   },
   "outputs": [
    {
     "name": "stdout",
     "output_type": "stream",
     "text": [
      "Variance ratio estimate (real value: 1.44):"
     ]
    },
    {
     "data": {
      "text/html": [
       "<table>\n",
       "<thead><tr><th scope=col>method</th><th scope=col>estimate</th><th scope=col>lower.95</th><th scope=col>upper.95</th><th scope=col>pval</th></tr></thead>\n",
       "<tbody>\n",
       "\t<tr><td>fixed       </td><td>1.325345    </td><td>1.131698    </td><td>1.552128    </td><td>0.0004738349</td></tr>\n",
       "\t<tr><td>random      </td><td>1.282319    </td><td>1.005897    </td><td>1.634702    </td><td>0.0447042950</td></tr>\n",
       "</tbody>\n",
       "</table>\n"
      ],
      "text/latex": [
       "\\begin{tabular}{r|lllll}\n",
       " method & estimate & lower.95 & upper.95 & pval\\\\\n",
       "\\hline\n",
       "\t fixed        & 1.325345     & 1.131698     & 1.552128     & 0.0004738349\\\\\n",
       "\t random       & 1.282319     & 1.005897     & 1.634702     & 0.0447042950\\\\\n",
       "\\end{tabular}\n"
      ],
      "text/markdown": [
       "\n",
       "method | estimate | lower.95 | upper.95 | pval | \n",
       "|---|---|\n",
       "| fixed        | 1.325345     | 1.131698     | 1.552128     | 0.0004738349 | \n",
       "| random       | 1.282319     | 1.005897     | 1.634702     | 0.0447042950 | \n",
       "\n",
       "\n"
      ],
      "text/plain": [
       "  method estimate lower.95 upper.95 pval        \n",
       "1 fixed  1.325345 1.131698 1.552128 0.0004738349\n",
       "2 random 1.282319 1.005897 1.634702 0.0447042950"
      ]
     },
     "metadata": {},
     "output_type": "display_data"
    }
   ],
   "source": [
    "TE <- log(Fr) - digamma(df1/2) + digamma(df2/2) + log(df1/df2)\n",
    "TEse <- sqrt(trigamma(df1/2) + trigamma(df2/2))\n",
    "meta <- metagen(TE, TEse)\n",
    "cat(sprintf(\"Variance ratio estimate (real value: %g):\", sigma1^2/sigma2^2))\n",
    "with(meta, data.frame(method=c(\"fixed\", \"random\"), estimate=exp(c(TE.fixed, TE.random)/2),\n",
    "        lower.95=exp(c(lower.fixed, lower.random)/2),\n",
    "        upper.95=exp(c(upper.fixed, upper.random)/2), pval=c(pval.fixed, pval.random)))"
   ]
  },
  {
   "cell_type": "markdown",
   "metadata": {},
   "source": [
    "### Monte Carlo simulation"
   ]
  },
  {
   "cell_type": "code",
   "execution_count": 5,
   "metadata": {
    "collapsed": true
   },
   "outputs": [],
   "source": [
    "metas <- replicate(Niter, {\n",
    "\tn1 <- sample(SampleSizes, Nstud, rep=T)\n",
    "\tn2 <- sample(SampleSizes, Nstud, rep=T)\n",
    "\t\n",
    "\tind1 <- lapply(n1, rnorm, mu1, sigma1)\n",
    "\tind2 <- lapply(n2, rnorm, mu2, sigma2)\n",
    "\tsd1 <- sapply(ind1, sd)\n",
    "\tsd2 <- sapply(ind2, sd)\n",
    "\t\n",
    "\tFr <- sd1^2 / sd2^2\n",
    "\tdf1 <- n1 - 1\n",
    "\tdf2 <- n2 - 1\n",
    "    \n",
    "\tTE <- log(Fr) - digamma(df1/2) + digamma(df2/2) + log(df1/df2)\n",
    "\tTEse <- sqrt(trigamma(df1/2) + trigamma(df2/2))\n",
    "\tmetagen(TE, TEse)\n",
    "}, simplify=F)"
   ]
  },
  {
   "cell_type": "markdown",
   "metadata": {},
   "source": [
    "### Distribution of estimations"
   ]
  },
  {
   "cell_type": "code",
   "execution_count": 6,
   "metadata": {
    "collapsed": false
   },
   "outputs": [
    {
     "name": "stdout",
     "output_type": "stream",
     "text": [
      "Real log-variance ratio: 0.364643"
     ]
    },
    {
     "data": {
      "text/html": [
       "<table>\n",
       "<thead><tr><th></th><th scope=col>mean</th><th scope=col>sd</th><th scope=col>sem</th></tr></thead>\n",
       "<tbody>\n",
       "\t<tr><th scope=row>fixed</th><td>0.3682625  </td><td>0.1597319  </td><td>0.005051166</td></tr>\n",
       "\t<tr><th scope=row>random</th><td>0.3691706  </td><td>0.1611201  </td><td>0.005095065</td></tr>\n",
       "</tbody>\n",
       "</table>\n"
      ],
      "text/latex": [
       "\\begin{tabular}{r|lll}\n",
       "  & mean & sd & sem\\\\\n",
       "\\hline\n",
       "\tfixed & 0.3682625   & 0.1597319   & 0.005051166\\\\\n",
       "\trandom & 0.3691706   & 0.1611201   & 0.005095065\\\\\n",
       "\\end{tabular}\n"
      ],
      "text/markdown": [
       "\n",
       "| <!--/--> | mean | sd | sem | \n",
       "|---|---|\n",
       "| fixed | 0.3682625   | 0.1597319   | 0.005051166 | \n",
       "| random | 0.3691706   | 0.1611201   | 0.005095065 | \n",
       "\n",
       "\n"
      ],
      "text/plain": [
       "       mean      sd        sem        \n",
       "fixed  0.3682625 0.1597319 0.005051166\n",
       "random 0.3691706 0.1611201 0.005095065"
      ]
     },
     "metadata": {},
     "output_type": "display_data"
    }
   ],
   "source": [
    "cat(sprintf(\"Real log-variance ratio: %g\", 2*log(sigma1/sigma2)))\n",
    "TEs.fixed <- sapply(metas, \"[[\", \"TE.fixed\")\n",
    "TEs.random <- sapply(metas, \"[[\", \"TE.random\")\n",
    "data.frame(mean = c(mean(TEs.fixed), mean(TEs.random)), sd=c(sd(TEs.fixed), sd(TEs.random)),\n",
    "            sem = c(sd(TEs.fixed)/sqrt(length(TEs.fixed)),\n",
    "            sd(TEs.random)/sqrt(length(TEs.random))), row.names=c(\"fixed\", \"random\"))"
   ]
  },
  {
   "cell_type": "markdown",
   "metadata": {},
   "source": [
    "### Power of estimations (rate of log-variance ratios estimated significantly different from 0)"
   ]
  },
  {
   "cell_type": "code",
   "execution_count": 7,
   "metadata": {
    "collapsed": false
   },
   "outputs": [
    {
     "data": {
      "text/html": [
       "<dl class=dl-horizontal>\n",
       "\t<dt>fixed</dt>\n",
       "\t\t<dd>0.666</dd>\n",
       "\t<dt>random</dt>\n",
       "\t\t<dd>0.6</dd>\n",
       "</dl>\n"
      ],
      "text/latex": [
       "\\begin{description*}\n",
       "\\item[fixed] 0.666\n",
       "\\item[random] 0.6\n",
       "\\end{description*}\n"
      ],
      "text/markdown": [
       "fixed\n",
       ":   0.666random\n",
       ":   0.6\n",
       "\n"
      ],
      "text/plain": [
       " fixed random \n",
       " 0.666  0.600 "
      ]
     },
     "metadata": {},
     "output_type": "display_data"
    }
   ],
   "source": [
    "c(fixed = mean(sapply(metas, \"[[\", \"pval.fixed\") <= .05), random = mean(sapply(metas, \"[[\", \"pval.random\") <= .05))"
   ]
  },
  {
   "cell_type": "markdown",
   "metadata": {},
   "source": [
    "### Frequency of incorrect estimations (Rate of estimated 95% confidence intervals not including real value)"
   ]
  },
  {
   "cell_type": "code",
   "execution_count": 8,
   "metadata": {
    "collapsed": false
   },
   "outputs": [
    {
     "data": {
      "text/html": [
       "<dl class=dl-horizontal>\n",
       "\t<dt>fixed</dt>\n",
       "\t\t<dd>0.06</dd>\n",
       "\t<dt>random</dt>\n",
       "\t\t<dd>0.044</dd>\n",
       "</dl>\n"
      ],
      "text/latex": [
       "\\begin{description*}\n",
       "\\item[fixed] 0.06\n",
       "\\item[random] 0.044\n",
       "\\end{description*}\n"
      ],
      "text/markdown": [
       "fixed\n",
       ":   0.06random\n",
       ":   0.044\n",
       "\n"
      ],
      "text/plain": [
       " fixed random \n",
       " 0.060  0.044 "
      ]
     },
     "metadata": {},
     "output_type": "display_data"
    }
   ],
   "source": [
    "lvr <- 2*log(sigma1/sigma2)\n",
    "c(fixed = mean(sapply(metas, \"[[\", \"lower.fixed\") > lvr | sapply(metas, \"[[\", \"upper.fixed\") < lvr),\n",
    " random = mean(sapply(metas, \"[[\", \"lower.random\") > lvr | sapply(metas, \"[[\", \"upper.random\") < lvr))"
   ]
  },
  {
   "cell_type": "code",
   "execution_count": null,
   "metadata": {
    "collapsed": true
   },
   "outputs": [],
   "source": []
  }
 ],
 "metadata": {
  "anaconda-cloud": {},
  "kernelspec": {
   "display_name": "R",
   "language": "R",
   "name": "ir"
  },
  "language_info": {
   "codemirror_mode": "r",
   "file_extension": ".r",
   "mimetype": "text/x-r-source",
   "name": "R",
   "pygments_lexer": "r",
   "version": "3.3.2"
  }
 },
 "nbformat": 4,
 "nbformat_minor": 1
}

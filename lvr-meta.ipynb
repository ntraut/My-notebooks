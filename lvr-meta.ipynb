{
 "cells": [
  {
   "cell_type": "markdown",
   "metadata": {},
   "source": [
    "# Meta-analysis on log-variance ratio"
   ]
  },
  {
   "cell_type": "markdown",
   "metadata": {},
   "source": [
    "### Simulation parameters"
   ]
  },
  {
   "cell_type": "code",
   "execution_count": 45,
   "metadata": {
    "collapsed": false
   },
   "outputs": [],
   "source": [
    "suppressPackageStartupMessages(library(meta))\n",
    "\n",
    "Niter <- 1000           # Number of iterations for bootstrap simulation\n",
    "Nstud <- 10             # Number of studies in the meta-analysis\n",
    "ss1 <- 20:40             # Different possible number of cases\n",
    "ss2 <- 5:30             # Different possible number of controls\n",
    "mu1 <- 10               # True mean for cases\n",
    "mu2 <- 10               # True mean for controls\n",
    "sigma1 <- 1.2           # True standard deviation for cases\n",
    "sigma2 <- 1             # True standard deviation for controls"
   ]
  },
  {
   "cell_type": "markdown",
   "metadata": {},
   "source": [
    "### Samples generation"
   ]
  },
  {
   "cell_type": "code",
   "execution_count": 46,
   "metadata": {
    "collapsed": true
   },
   "outputs": [],
   "source": [
    "n1 <- sample(ss1, Nstud, rep=T)     # Number of cases for each study\n",
    "n2 <- sample(ss2, Nstud, rep=T)     # Number of controls for each study\n",
    "\n",
    "ind1 <- lapply(n1, rnorm, mu1, sigma1)      # Cases generation\n",
    "ind2 <- lapply(n2, rnorm, mu2, sigma2)      # Controls generation\n",
    "sd1 <- sapply(ind1, sd)                     # Estimated standard deviations for cases of each study\n",
    "sd2 <- sapply(ind2, sd)                     # Estimated standard deviations for controls of each study"
   ]
  },
  {
   "cell_type": "markdown",
   "metadata": {},
   "source": [
    "### F-test for comparison two variances"
   ]
  },
  {
   "cell_type": "code",
   "execution_count": 47,
   "metadata": {
    "collapsed": false
   },
   "outputs": [
    {
     "data": {
      "text/html": [
       "<table>\n",
       "<thead><tr><th scope=col>study</th><th scope=col>cases</th><th scope=col>controls</th><th scope=col>estimate</th><th scope=col>lower.95</th><th scope=col>upper.95</th><th scope=col>pval</th></tr></thead>\n",
       "<tbody>\n",
       "\t<tr><td> 1         </td><td>20         </td><td> 5         </td><td>64.2524215 </td><td>7.4927047  </td><td>228.655484 </td><td>0.001044402</td></tr>\n",
       "\t<tr><td> 2         </td><td>33         </td><td>23         </td><td> 1.1478867 </td><td>0.5086914  </td><td>  2.445758 </td><td>0.746748103</td></tr>\n",
       "\t<tr><td> 3         </td><td>30         </td><td>24         </td><td> 0.7304647 </td><td>0.3250354  </td><td>  1.582960 </td><td>0.420149065</td></tr>\n",
       "\t<tr><td> 4         </td><td>35         </td><td> 6         </td><td> 8.9128942 </td><td>1.4369672  </td><td> 26.453675 </td><td>0.022244268</td></tr>\n",
       "\t<tr><td> 5         </td><td>39         </td><td>10         </td><td> 2.8526131 </td><td>0.8117325  </td><td>  7.048691 </td><td>0.097779012</td></tr>\n",
       "\t<tr><td> 6         </td><td>27         </td><td> 6         </td><td> 1.3896578 </td><td>0.2220454  </td><td>  4.314567 </td><td>0.770758593</td></tr>\n",
       "\t<tr><td> 7         </td><td>32         </td><td> 8         </td><td> 1.5726595 </td><td>0.3610711  </td><td>  4.293280 </td><td>0.554542211</td></tr>\n",
       "\t<tr><td> 8         </td><td>35         </td><td>22         </td><td> 1.2524231 </td><td>0.5494334  </td><td>  2.652331 </td><td>0.595060851</td></tr>\n",
       "\t<tr><td> 9         </td><td>39         </td><td> 6         </td><td> 1.5967615 </td><td>0.2582386  </td><td>  4.666921 </td><td>0.638629616</td></tr>\n",
       "\t<tr><td>10         </td><td>29         </td><td>14         </td><td> 1.5797200 </td><td>0.5536295  </td><td>  3.805379 </td><td>0.387683974</td></tr>\n",
       "</tbody>\n",
       "</table>\n"
      ],
      "text/latex": [
       "\\begin{tabular}{r|lllllll}\n",
       " study & cases & controls & estimate & lower.95 & upper.95 & pval\\\\\n",
       "\\hline\n",
       "\t  1          & 20          &  5          & 64.2524215  & 7.4927047   & 228.655484  & 0.001044402\\\\\n",
       "\t  2          & 33          & 23          &  1.1478867  & 0.5086914   &   2.445758  & 0.746748103\\\\\n",
       "\t  3          & 30          & 24          &  0.7304647  & 0.3250354   &   1.582960  & 0.420149065\\\\\n",
       "\t  4          & 35          &  6          &  8.9128942  & 1.4369672   &  26.453675  & 0.022244268\\\\\n",
       "\t  5          & 39          & 10          &  2.8526131  & 0.8117325   &   7.048691  & 0.097779012\\\\\n",
       "\t  6          & 27          &  6          &  1.3896578  & 0.2220454   &   4.314567  & 0.770758593\\\\\n",
       "\t  7          & 32          &  8          &  1.5726595  & 0.3610711   &   4.293280  & 0.554542211\\\\\n",
       "\t  8          & 35          & 22          &  1.2524231  & 0.5494334   &   2.652331  & 0.595060851\\\\\n",
       "\t  9          & 39          &  6          &  1.5967615  & 0.2582386   &   4.666921  & 0.638629616\\\\\n",
       "\t 10          & 29          & 14          &  1.5797200  & 0.5536295   &   3.805379  & 0.387683974\\\\\n",
       "\\end{tabular}\n"
      ],
      "text/markdown": [
       "\n",
       "study | cases | controls | estimate | lower.95 | upper.95 | pval | \n",
       "|---|---|---|---|---|---|---|---|---|---|\n",
       "|  1          | 20          |  5          | 64.2524215  | 7.4927047   | 228.655484  | 0.001044402 | \n",
       "|  2          | 33          | 23          |  1.1478867  | 0.5086914   |   2.445758  | 0.746748103 | \n",
       "|  3          | 30          | 24          |  0.7304647  | 0.3250354   |   1.582960  | 0.420149065 | \n",
       "|  4          | 35          |  6          |  8.9128942  | 1.4369672   |  26.453675  | 0.022244268 | \n",
       "|  5          | 39          | 10          |  2.8526131  | 0.8117325   |   7.048691  | 0.097779012 | \n",
       "|  6          | 27          |  6          |  1.3896578  | 0.2220454   |   4.314567  | 0.770758593 | \n",
       "|  7          | 32          |  8          |  1.5726595  | 0.3610711   |   4.293280  | 0.554542211 | \n",
       "|  8          | 35          | 22          |  1.2524231  | 0.5494334   |   2.652331  | 0.595060851 | \n",
       "|  9          | 39          |  6          |  1.5967615  | 0.2582386   |   4.666921  | 0.638629616 | \n",
       "| 10          | 29          | 14          |  1.5797200  | 0.5536295   |   3.805379  | 0.387683974 | \n",
       "\n",
       "\n"
      ],
      "text/plain": [
       "   study cases controls estimate   lower.95  upper.95   pval       \n",
       "1   1    20     5       64.2524215 7.4927047 228.655484 0.001044402\n",
       "2   2    33    23        1.1478867 0.5086914   2.445758 0.746748103\n",
       "3   3    30    24        0.7304647 0.3250354   1.582960 0.420149065\n",
       "4   4    35     6        8.9128942 1.4369672  26.453675 0.022244268\n",
       "5   5    39    10        2.8526131 0.8117325   7.048691 0.097779012\n",
       "6   6    27     6        1.3896578 0.2220454   4.314567 0.770758593\n",
       "7   7    32     8        1.5726595 0.3610711   4.293280 0.554542211\n",
       "8   8    35    22        1.2524231 0.5494334   2.652331 0.595060851\n",
       "9   9    39     6        1.5967615 0.2582386   4.666921 0.638629616\n",
       "10 10    29    14        1.5797200 0.5536295   3.805379 0.387683974"
      ]
     },
     "metadata": {},
     "output_type": "display_data"
    }
   ],
   "source": [
    "Fr <- sd1^2 / sd2^2                                                 # Fisher ratios\n",
    "df1 <- n1 - 1                                                       # Degrees of freedom for F-test\n",
    "df2 <- n2 - 1\n",
    "f.pvalues <- 1 - abs(pf(Fr, df1, df2) - 0.5) * 2                    # F-test p-values\n",
    "alpha <- .05\n",
    "ci <- cbind(Fr/qf(1-alpha/2, df1, df2), Fr/qf(alpha/2, df1, df2))   # 95% Confidence intervals for variance ratios\n",
    "data.frame(study=1:Nstud, cases=n1, controls=n2, estimate=Fr, lower.95=ci[,1], upper.95=ci[,2], pval=f.pvalues)"
   ]
  },
  {
   "cell_type": "markdown",
   "metadata": {},
   "source": [
    "### Meta-analysis on ratios of variances"
   ]
  },
  {
   "cell_type": "code",
   "execution_count": 48,
   "metadata": {
    "collapsed": false
   },
   "outputs": [
    {
     "name": "stdout",
     "output_type": "stream",
     "text": [
      "Variance ratio estimate (real value: 1.44):"
     ]
    },
    {
     "data": {
      "text/html": [
       "<table>\n",
       "<thead><tr><th scope=col>method</th><th scope=col>estimate</th><th scope=col>lower.95</th><th scope=col>upper.95</th><th scope=col>pval</th></tr></thead>\n",
       "<tbody>\n",
       "\t<tr><td>fixed      </td><td>1.244136   </td><td>1.055125   </td><td>1.467007   </td><td>0.009371519</td></tr>\n",
       "\t<tr><td>random     </td><td>1.384037   </td><td>1.030134   </td><td>1.859523   </td><td>0.031005516</td></tr>\n",
       "</tbody>\n",
       "</table>\n"
      ],
      "text/latex": [
       "\\begin{tabular}{r|lllll}\n",
       " method & estimate & lower.95 & upper.95 & pval\\\\\n",
       "\\hline\n",
       "\t fixed       & 1.244136    & 1.055125    & 1.467007    & 0.009371519\\\\\n",
       "\t random      & 1.384037    & 1.030134    & 1.859523    & 0.031005516\\\\\n",
       "\\end{tabular}\n"
      ],
      "text/markdown": [
       "\n",
       "method | estimate | lower.95 | upper.95 | pval | \n",
       "|---|---|\n",
       "| fixed       | 1.244136    | 1.055125    | 1.467007    | 0.009371519 | \n",
       "| random      | 1.384037    | 1.030134    | 1.859523    | 0.031005516 | \n",
       "\n",
       "\n"
      ],
      "text/plain": [
       "  method estimate lower.95 upper.95 pval       \n",
       "1 fixed  1.244136 1.055125 1.467007 0.009371519\n",
       "2 random 1.384037 1.030134 1.859523 0.031005516"
      ]
     },
     "metadata": {},
     "output_type": "display_data"
    }
   ],
   "source": [
    "TE <- log(Fr) - digamma(df1/2) + digamma(df2/2) + log(df1/df2)\n",
    "TEse <- sqrt(trigamma(df1/2) + trigamma(df2/2))\n",
    "meta <- metagen(TE, TEse)\n",
    "cat(sprintf(\"Variance ratio estimate (real value: %g):\", sigma1^2/sigma2^2))\n",
    "with(meta, data.frame(method=c(\"fixed\", \"random\"), estimate=exp(c(TE.fixed, TE.random)/2),\n",
    "        lower.95=exp(c(lower.fixed, lower.random)/2),\n",
    "        upper.95=exp(c(upper.fixed, upper.random)/2), pval=c(pval.fixed, pval.random)))"
   ]
  },
  {
   "cell_type": "markdown",
   "metadata": {},
   "source": [
    "### Monte Carlo simulation"
   ]
  },
  {
   "cell_type": "code",
   "execution_count": 49,
   "metadata": {
    "collapsed": true
   },
   "outputs": [],
   "source": [
    "metas <- replicate(Niter, {\n",
    "\tn1 <- sample(ss1, Nstud, rep=T)\n",
    "\tn2 <- sample(ss2, Nstud, rep=T)\n",
    "\t\n",
    "\tind1 <- lapply(n1, rnorm, mu1, sigma1)\n",
    "\tind2 <- lapply(n2, rnorm, mu2, sigma2)\n",
    "\tsd1 <- sapply(ind1, sd)\n",
    "\tsd2 <- sapply(ind2, sd)\n",
    "\t\n",
    "\tFr <- sd1^2 / sd2^2\n",
    "\tdf1 <- n1 - 1\n",
    "\tdf2 <- n2 - 1\n",
    "    \n",
    "\tTE1 <- log(Fr) - digamma(df1/2) + digamma(df2/2) + log(df1/df2)     # Correcting for bias\n",
    "\tTE2 <- log(Fr)                                                      # Not correcting for bias\n",
    "\tTEse <- sqrt(trigamma(df1/2) + trigamma(df2/2))\n",
    "\tlist(nobias=metagen(TE1, TEse), bias=metagen(TE2, TEse))\n",
    "}, simplify=F)"
   ]
  },
  {
   "cell_type": "markdown",
   "metadata": {},
   "source": [
    "### Distribution of estimations"
   ]
  },
  {
   "cell_type": "code",
   "execution_count": 50,
   "metadata": {
    "collapsed": false
   },
   "outputs": [
    {
     "name": "stdout",
     "output_type": "stream",
     "text": [
      "Real log-variance ratio: 0.364643\n",
      "With bias correction:\n"
     ]
    },
    {
     "data": {
      "text/html": [
       "<table>\n",
       "<thead><tr><th></th><th scope=col>mean</th><th scope=col>sd</th><th scope=col>sem</th></tr></thead>\n",
       "<tbody>\n",
       "\t<tr><th scope=row>fixed</th><td>0.3656070  </td><td>0.1519189  </td><td>0.004804097</td></tr>\n",
       "\t<tr><th scope=row>random</th><td>0.3666895  </td><td>0.1527144  </td><td>0.004829254</td></tr>\n",
       "</tbody>\n",
       "</table>\n"
      ],
      "text/latex": [
       "\\begin{tabular}{r|lll}\n",
       "  & mean & sd & sem\\\\\n",
       "\\hline\n",
       "\tfixed & 0.3656070   & 0.1519189   & 0.004804097\\\\\n",
       "\trandom & 0.3666895   & 0.1527144   & 0.004829254\\\\\n",
       "\\end{tabular}\n"
      ],
      "text/markdown": [
       "\n",
       "| <!--/--> | mean | sd | sem | \n",
       "|---|---|\n",
       "| fixed | 0.3656070   | 0.1519189   | 0.004804097 | \n",
       "| random | 0.3666895   | 0.1527144   | 0.004829254 | \n",
       "\n",
       "\n"
      ],
      "text/plain": [
       "       mean      sd        sem        \n",
       "fixed  0.3656070 0.1519189 0.004804097\n",
       "random 0.3666895 0.1527144 0.004829254"
      ]
     },
     "metadata": {},
     "output_type": "display_data"
    },
    {
     "name": "stdout",
     "output_type": "stream",
     "text": [
      "Without bias correction:\n"
     ]
    },
    {
     "data": {
      "text/html": [
       "<table>\n",
       "<thead><tr><th></th><th scope=col>mean</th><th scope=col>sd</th><th scope=col>sem</th></tr></thead>\n",
       "<tbody>\n",
       "\t<tr><th scope=row>fixed</th><td>0.3964108  </td><td>0.1529670  </td><td>0.004837243</td></tr>\n",
       "\t<tr><th scope=row>random</th><td>0.3998613  </td><td>0.1543665  </td><td>0.004881498</td></tr>\n",
       "</tbody>\n",
       "</table>\n"
      ],
      "text/latex": [
       "\\begin{tabular}{r|lll}\n",
       "  & mean & sd & sem\\\\\n",
       "\\hline\n",
       "\tfixed & 0.3964108   & 0.1529670   & 0.004837243\\\\\n",
       "\trandom & 0.3998613   & 0.1543665   & 0.004881498\\\\\n",
       "\\end{tabular}\n"
      ],
      "text/markdown": [
       "\n",
       "| <!--/--> | mean | sd | sem | \n",
       "|---|---|\n",
       "| fixed | 0.3964108   | 0.1529670   | 0.004837243 | \n",
       "| random | 0.3998613   | 0.1543665   | 0.004881498 | \n",
       "\n",
       "\n"
      ],
      "text/plain": [
       "       mean      sd        sem        \n",
       "fixed  0.3964108 0.1529670 0.004837243\n",
       "random 0.3998613 0.1543665 0.004881498"
      ]
     },
     "metadata": {},
     "output_type": "display_data"
    }
   ],
   "source": [
    "metas1 <- lapply(metas, \"[[\", \"nobias\")\n",
    "metas2 <- lapply(metas, \"[[\", \"bias\")\n",
    "cat(sprintf(\"Real log-variance ratio: %g\\n\", 2*log(sigma1/sigma2)))\n",
    "cat(\"With bias correction:\\n\")\n",
    "TEs1.fixed <- sapply(metas1, \"[[\", \"TE.fixed\")\n",
    "TEs1.random <- sapply(metas1, \"[[\", \"TE.random\")\n",
    "data.frame(mean = c(mean(TEs1.fixed), mean(TEs1.random)), sd=c(sd(TEs1.fixed), sd(TEs1.random)),\n",
    "            sem = c(sd(TEs1.fixed)/sqrt(length(TEs1.fixed)),\n",
    "            sd(TEs1.random)/sqrt(length(TEs1.random))), row.names=c(\"fixed\", \"random\"))\n",
    "cat(\"Without bias correction:\\n\")\n",
    "TEs2.fixed <- sapply(metas2, \"[[\", \"TE.fixed\")\n",
    "TEs2.random <- sapply(metas2, \"[[\", \"TE.random\")\n",
    "data.frame(mean = c(mean(TEs2.fixed), mean(TEs2.random)), sd=c(sd(TEs2.fixed), sd(TEs2.random)),\n",
    "            sem = c(sd(TEs2.fixed)/sqrt(length(TEs2.fixed)),\n",
    "            sd(TEs2.random)/sqrt(length(TEs2.random))), row.names=c(\"fixed\", \"random\"))\n"
   ]
  },
  {
   "cell_type": "markdown",
   "metadata": {},
   "source": [
    "### Power of estimations (rate of log-variance ratios estimated significantly different from 0)"
   ]
  },
  {
   "cell_type": "code",
   "execution_count": 51,
   "metadata": {
    "collapsed": false
   },
   "outputs": [
    {
     "data": {
      "text/html": [
       "<table>\n",
       "<thead><tr><th></th><th scope=col>nobias</th><th scope=col>bias</th></tr></thead>\n",
       "<tbody>\n",
       "\t<tr><th scope=row>fixed</th><td>0.686</td><td>0.764</td></tr>\n",
       "\t<tr><th scope=row>random</th><td>0.625</td><td>0.710</td></tr>\n",
       "</tbody>\n",
       "</table>\n"
      ],
      "text/latex": [
       "\\begin{tabular}{r|ll}\n",
       "  & nobias & bias\\\\\n",
       "\\hline\n",
       "\tfixed & 0.686 & 0.764\\\\\n",
       "\trandom & 0.625 & 0.710\\\\\n",
       "\\end{tabular}\n"
      ],
      "text/markdown": [
       "\n",
       "| <!--/--> | nobias | bias | \n",
       "|---|---|\n",
       "| fixed | 0.686 | 0.764 | \n",
       "| random | 0.625 | 0.710 | \n",
       "\n",
       "\n"
      ],
      "text/plain": [
       "       nobias bias \n",
       "fixed  0.686  0.764\n",
       "random 0.625  0.710"
      ]
     },
     "metadata": {},
     "output_type": "display_data"
    }
   ],
   "source": [
    "power1.fixed <- mean(sapply(metas1, \"[[\", \"pval.fixed\") <= .05)\n",
    "power1.random <- mean(sapply(metas1, \"[[\", \"pval.random\") <= .05)\n",
    "power2.fixed <- mean(sapply(metas2, \"[[\", \"pval.fixed\") <= .05)\n",
    "power2.random <- mean(sapply(metas2, \"[[\", \"pval.random\") <= .05)\n",
    "data.frame(nobias=c(power1.fixed, power1.random), bias=c(power2.fixed, power2.random), row.names=c(\"fixed\", \"random\"))"
   ]
  },
  {
   "cell_type": "markdown",
   "metadata": {},
   "source": [
    "### Frequency of incorrect estimations (Rate of estimated 95% confidence intervals not including real value)"
   ]
  },
  {
   "cell_type": "code",
   "execution_count": 52,
   "metadata": {
    "collapsed": false
   },
   "outputs": [
    {
     "data": {
      "text/html": [
       "<table>\n",
       "<thead><tr><th></th><th scope=col>nobias</th><th scope=col>bias</th></tr></thead>\n",
       "<tbody>\n",
       "\t<tr><th scope=row>fixed</th><td>0.066</td><td>0.073</td></tr>\n",
       "\t<tr><th scope=row>random</th><td>0.049</td><td>0.055</td></tr>\n",
       "</tbody>\n",
       "</table>\n"
      ],
      "text/latex": [
       "\\begin{tabular}{r|ll}\n",
       "  & nobias & bias\\\\\n",
       "\\hline\n",
       "\tfixed & 0.066 & 0.073\\\\\n",
       "\trandom & 0.049 & 0.055\\\\\n",
       "\\end{tabular}\n"
      ],
      "text/markdown": [
       "\n",
       "| <!--/--> | nobias | bias | \n",
       "|---|---|\n",
       "| fixed | 0.066 | 0.073 | \n",
       "| random | 0.049 | 0.055 | \n",
       "\n",
       "\n"
      ],
      "text/plain": [
       "       nobias bias \n",
       "fixed  0.066  0.073\n",
       "random 0.049  0.055"
      ]
     },
     "metadata": {},
     "output_type": "display_data"
    }
   ],
   "source": [
    "lvr <- 2*log(sigma1/sigma2)\n",
    "fie1.fixed <- mean(sapply(metas1, \"[[\", \"lower.fixed\") > lvr | sapply(metas1, \"[[\", \"upper.fixed\") < lvr)\n",
    "fie1.random <- mean(sapply(metas1, \"[[\", \"lower.random\") > lvr | sapply(metas1, \"[[\", \"upper.random\") < lvr)\n",
    "fie2.fixed <- mean(sapply(metas2, \"[[\", \"lower.fixed\") > lvr | sapply(metas2, \"[[\", \"upper.fixed\") < lvr)\n",
    "fie2.random <- mean(sapply(metas2, \"[[\", \"lower.random\") > lvr | sapply(metas2, \"[[\", \"upper.random\") < lvr)\n",
    "data.frame(nobias=c(fie1.fixed, fie1.random), bias=c(fie2.fixed, fie2.random), row.names=c(\"fixed\", \"random\"))"
   ]
  }
 ],
 "metadata": {
  "anaconda-cloud": {},
  "kernelspec": {
   "display_name": "R",
   "language": "R",
   "name": "ir"
  },
  "language_info": {
   "codemirror_mode": "r",
   "file_extension": ".r",
   "mimetype": "text/x-r-source",
   "name": "R",
   "pygments_lexer": "r",
   "version": "3.3.2"
  }
 },
 "nbformat": 4,
 "nbformat_minor": 1
}
